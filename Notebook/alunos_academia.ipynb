{
 "cells": [
  {
   "cell_type": "markdown",
   "metadata": {},
   "source": [
    "### Primeiramente, importe as bibliotecas:"
   ]
  },
  {
   "cell_type": "code",
   "execution_count": 1,
   "metadata": {},
   "outputs": [
    {
     "name": "stdout",
     "output_type": "stream",
     "text": [
      "Conexão com SQLite foi bem-sucedida\n"
     ]
    }
   ],
   "source": [
    "import sqlite3\n",
    "import pandas as pd\n",
    "import matplotlib.pyplot as plt\n",
    "import seaborn as sns\n",
    "\n",
    "# Estilo visual\n",
    "sns.set(style=\"whitegrid\")\n",
    "%matplotlib inline\n",
    "\n",
    "# Teste simples de conexão\n",
    "conn = sqlite3.connect('academia_ficticia.db')\n",
    "print(\"Conexão com SQLite foi bem-sucedida\")\n",
    "conn.close()"
   ]
  },
  {
   "cell_type": "code",
   "execution_count": 2,
   "metadata": {},
   "outputs": [],
   "source": [
    "# Conectar ao banco de dados (ele será criado se não existir)\n",
    "conn = sqlite3.connect('academia_ficticia.db')\n",
    "\n",
    "# Criar o cursor\n",
    "cursor = conn.cursor()\n",
    "\n",
    "# Criar a tabela no SQLite (caso não exista)\n",
    "cursor.execute('''\n",
    "CREATE TABLE IF NOT EXISTS alunos (\n",
    "    id_aluno INTEGER PRIMARY KEY,\n",
    "    nome_aluno TEXT,\n",
    "    idade INTEGER,\n",
    "    sexo TEXT,\n",
    "    plano TEXT,\n",
    "    data_inicio TEXT,\n",
    "    data_termino TEXT,\n",
    "    objetivo TEXT,\n",
    "    aulas_realizadas INTEGER,\n",
    "    status_pagamento TEXT,\n",
    "    avaliacao TEXT\n",
    ")\n",
    "''')\n",
    "\n",
    "# Confirmar a criação\n",
    "conn.commit()\n"
   ]
  },
  {
   "cell_type": "code",
   "execution_count": 3,
   "metadata": {},
   "outputs": [
    {
     "name": "stdout",
     "output_type": "stream",
     "text": [
      "Carregando os dados...\n",
      "\n",
      "Primeiros registros do dataframe:\n",
      "   ID Aluno Nome do Aluno  Idade       Sexo Plano de Academia Data de Início  \\\n",
      "0         1     Mariana 4     35  Masculino            Básico     2023-03-13   \n",
      "1         2      Lucas 12     31  Masculino               VIP     2023-11-05   \n",
      "2         3    Juliana 58     55   Feminino            Básico     2023-03-23   \n",
      "3         4    Juliana 98     39  Masculino            Básico     2023-07-14   \n",
      "4         5      Lucas 94     47  Masculino           Premium     2023-02-10   \n",
      "\n",
      "  Data de Término do Plano                Objetivo  \\\n",
      "0               2024-02-22           Emagrecimento   \n",
      "1               2024-01-14          Ganho Muscular   \n",
      "2               2024-12-23  Condicionamento Físico   \n",
      "3               2024-02-19        Melhora da Saúde   \n",
      "4               2024-10-09        Melhora da Saúde   \n",
      "\n",
      "   Número de Aulas Realizadas Status de Pagamento Classe de Avaliação  \n",
      "0                          85            Pendente           Excelente  \n",
      "1                          93            Atrasado        Insatisfeito  \n",
      "2                          53            Pendente                 Bom  \n",
      "3                          54            Atrasado             Regular  \n",
      "4                          90            Atrasado             Regular  \n"
     ]
    }
   ],
   "source": [
    "# Carregando os dados do Excel\n",
    "print(\"Carregando os dados...\")\n",
    "df = pd.read_excel(r'C:\\Users\\gonca\\Downloads\\academia-sql-analise\\Dados\\alunos_academia.xlsx')\n",
    "\n",
    "# Verificando os primeiros registros\n",
    "print(\"\\nPrimeiros registros do dataframe:\")\n",
    "print(df.head())"
   ]
  },
  {
   "cell_type": "code",
   "execution_count": 4,
   "metadata": {},
   "outputs": [
    {
     "name": "stdout",
     "output_type": "stream",
     "text": [
      "✅ Dados inseridos com sucesso!\n"
     ]
    }
   ],
   "source": [
    "# Reabrir a conexão e o cursor, se necessário\n",
    "conn = sqlite3.connect('academia_ficticia.db')\n",
    "cursor = conn.cursor()\n",
    "\n",
    "# Inserir os dados\n",
    "for _, row in df.iterrows():\n",
    "    cursor.execute('''\n",
    "    INSERT INTO alunos (\n",
    "        id_aluno, nome_aluno, idade, sexo, plano,\n",
    "        data_inicio, data_termino, objetivo,\n",
    "        aulas_realizadas, status_pagamento, avaliacao\n",
    "    ) VALUES (?, ?, ?, ?, ?, ?, ?, ?, ?, ?, ?)\n",
    "    ''', (\n",
    "        int(row['ID Aluno']),\n",
    "        row['Nome do Aluno'],\n",
    "        int(row['Idade']),\n",
    "        row['Sexo'],\n",
    "        row['Plano de Academia'],\n",
    "        str(row['Data de Início']),\n",
    "        str(row['Data de Término do Plano']),\n",
    "        row['Objetivo'],\n",
    "        int(row['Número de Aulas Realizadas']),\n",
    "        row['Status de Pagamento'],\n",
    "        row['Classe de Avaliação']\n",
    "    ))\n",
    "\n",
    "# Confirmar inserções\n",
    "conn.commit()\n",
    "print(\"✅ Dados inseridos com sucesso!\")"
   ]
  },
  {
   "cell_type": "markdown",
   "metadata": {},
   "source": [
    "### 1. Quantos alunos a academia tem no total?"
   ]
  },
  {
   "cell_type": "code",
   "execution_count": 5,
   "metadata": {},
   "outputs": [
    {
     "data": {
      "text/html": [
       "<div>\n",
       "<style scoped>\n",
       "    .dataframe tbody tr th:only-of-type {\n",
       "        vertical-align: middle;\n",
       "    }\n",
       "\n",
       "    .dataframe tbody tr th {\n",
       "        vertical-align: top;\n",
       "    }\n",
       "\n",
       "    .dataframe thead th {\n",
       "        text-align: right;\n",
       "    }\n",
       "</style>\n",
       "<table border=\"1\" class=\"dataframe\">\n",
       "  <thead>\n",
       "    <tr style=\"text-align: right;\">\n",
       "      <th></th>\n",
       "      <th>total_alunos</th>\n",
       "    </tr>\n",
       "  </thead>\n",
       "  <tbody>\n",
       "    <tr>\n",
       "      <th>0</th>\n",
       "      <td>100</td>\n",
       "    </tr>\n",
       "  </tbody>\n",
       "</table>\n",
       "</div>"
      ],
      "text/plain": [
       "   total_alunos\n",
       "0           100"
      ]
     },
     "execution_count": 5,
     "metadata": {},
     "output_type": "execute_result"
    }
   ],
   "source": [
    "pd.read_sql_query('SELECT COUNT(*) AS total_alunos FROM alunos', conn)"
   ]
  },
  {
   "cell_type": "markdown",
   "metadata": {},
   "source": [
    "### 2. Quantos alunos por plano?"
   ]
  },
  {
   "cell_type": "code",
   "execution_count": 6,
   "metadata": {},
   "outputs": [
    {
     "data": {
      "text/html": [
       "<div>\n",
       "<style scoped>\n",
       "    .dataframe tbody tr th:only-of-type {\n",
       "        vertical-align: middle;\n",
       "    }\n",
       "\n",
       "    .dataframe tbody tr th {\n",
       "        vertical-align: top;\n",
       "    }\n",
       "\n",
       "    .dataframe thead th {\n",
       "        text-align: right;\n",
       "    }\n",
       "</style>\n",
       "<table border=\"1\" class=\"dataframe\">\n",
       "  <thead>\n",
       "    <tr style=\"text-align: right;\">\n",
       "      <th></th>\n",
       "      <th>plano</th>\n",
       "      <th>quantidade</th>\n",
       "    </tr>\n",
       "  </thead>\n",
       "  <tbody>\n",
       "    <tr>\n",
       "      <th>0</th>\n",
       "      <td>Básico</td>\n",
       "      <td>42</td>\n",
       "    </tr>\n",
       "    <tr>\n",
       "      <th>1</th>\n",
       "      <td>VIP</td>\n",
       "      <td>31</td>\n",
       "    </tr>\n",
       "    <tr>\n",
       "      <th>2</th>\n",
       "      <td>Premium</td>\n",
       "      <td>27</td>\n",
       "    </tr>\n",
       "  </tbody>\n",
       "</table>\n",
       "</div>"
      ],
      "text/plain": [
       "     plano  quantidade\n",
       "0   Básico          42\n",
       "1      VIP          31\n",
       "2  Premium          27"
      ]
     },
     "execution_count": 6,
     "metadata": {},
     "output_type": "execute_result"
    }
   ],
   "source": [
    "pd.read_sql_query('''\n",
    "SELECT plano, COUNT(*) AS quantidade\n",
    "FROM alunos\n",
    "GROUP BY plano\n",
    "ORDER BY quantidade DESC\n",
    "''', conn)"
   ]
  },
  {
   "cell_type": "markdown",
   "metadata": {},
   "source": [
    "### 3. Média de idade dos alunos por objetivo"
   ]
  },
  {
   "cell_type": "code",
   "execution_count": 7,
   "metadata": {},
   "outputs": [
    {
     "data": {
      "text/html": [
       "<div>\n",
       "<style scoped>\n",
       "    .dataframe tbody tr th:only-of-type {\n",
       "        vertical-align: middle;\n",
       "    }\n",
       "\n",
       "    .dataframe tbody tr th {\n",
       "        vertical-align: top;\n",
       "    }\n",
       "\n",
       "    .dataframe thead th {\n",
       "        text-align: right;\n",
       "    }\n",
       "</style>\n",
       "<table border=\"1\" class=\"dataframe\">\n",
       "  <thead>\n",
       "    <tr style=\"text-align: right;\">\n",
       "      <th></th>\n",
       "      <th>objetivo</th>\n",
       "      <th>idade_media</th>\n",
       "    </tr>\n",
       "  </thead>\n",
       "  <tbody>\n",
       "    <tr>\n",
       "      <th>0</th>\n",
       "      <td>Melhora da Saúde</td>\n",
       "      <td>40.3</td>\n",
       "    </tr>\n",
       "    <tr>\n",
       "      <th>1</th>\n",
       "      <td>Condicionamento Físico</td>\n",
       "      <td>39.1</td>\n",
       "    </tr>\n",
       "    <tr>\n",
       "      <th>2</th>\n",
       "      <td>Ganho Muscular</td>\n",
       "      <td>35.9</td>\n",
       "    </tr>\n",
       "    <tr>\n",
       "      <th>3</th>\n",
       "      <td>Emagrecimento</td>\n",
       "      <td>31.8</td>\n",
       "    </tr>\n",
       "  </tbody>\n",
       "</table>\n",
       "</div>"
      ],
      "text/plain": [
       "                 objetivo  idade_media\n",
       "0        Melhora da Saúde         40.3\n",
       "1  Condicionamento Físico         39.1\n",
       "2          Ganho Muscular         35.9\n",
       "3           Emagrecimento         31.8"
      ]
     },
     "execution_count": 7,
     "metadata": {},
     "output_type": "execute_result"
    }
   ],
   "source": [
    "pd.read_sql_query('''\n",
    "SELECT objetivo, ROUND(AVG(idade), 1) AS idade_media\n",
    "FROM alunos\n",
    "GROUP BY objetivo\n",
    "ORDER BY idade_media DESC\n",
    "''', conn)"
   ]
  },
  {
   "cell_type": "markdown",
   "metadata": {},
   "source": [
    "### 4. Alunos com pagamento atrasado ou pendente"
   ]
  },
  {
   "cell_type": "code",
   "execution_count": 8,
   "metadata": {},
   "outputs": [
    {
     "data": {
      "text/html": [
       "<div>\n",
       "<style scoped>\n",
       "    .dataframe tbody tr th:only-of-type {\n",
       "        vertical-align: middle;\n",
       "    }\n",
       "\n",
       "    .dataframe tbody tr th {\n",
       "        vertical-align: top;\n",
       "    }\n",
       "\n",
       "    .dataframe thead th {\n",
       "        text-align: right;\n",
       "    }\n",
       "</style>\n",
       "<table border=\"1\" class=\"dataframe\">\n",
       "  <thead>\n",
       "    <tr style=\"text-align: right;\">\n",
       "      <th></th>\n",
       "      <th>nome_aluno</th>\n",
       "      <th>plano</th>\n",
       "      <th>status_pagamento</th>\n",
       "    </tr>\n",
       "  </thead>\n",
       "  <tbody>\n",
       "    <tr>\n",
       "      <th>0</th>\n",
       "      <td>Mariana 4</td>\n",
       "      <td>Básico</td>\n",
       "      <td>Pendente</td>\n",
       "    </tr>\n",
       "    <tr>\n",
       "      <th>1</th>\n",
       "      <td>Lucas 12</td>\n",
       "      <td>VIP</td>\n",
       "      <td>Atrasado</td>\n",
       "    </tr>\n",
       "    <tr>\n",
       "      <th>2</th>\n",
       "      <td>Juliana 58</td>\n",
       "      <td>Básico</td>\n",
       "      <td>Pendente</td>\n",
       "    </tr>\n",
       "    <tr>\n",
       "      <th>3</th>\n",
       "      <td>Juliana 98</td>\n",
       "      <td>Básico</td>\n",
       "      <td>Atrasado</td>\n",
       "    </tr>\n",
       "    <tr>\n",
       "      <th>4</th>\n",
       "      <td>Lucas 94</td>\n",
       "      <td>Premium</td>\n",
       "      <td>Atrasado</td>\n",
       "    </tr>\n",
       "    <tr>\n",
       "      <th>...</th>\n",
       "      <td>...</td>\n",
       "      <td>...</td>\n",
       "      <td>...</td>\n",
       "    </tr>\n",
       "    <tr>\n",
       "      <th>67</th>\n",
       "      <td>Ana 42</td>\n",
       "      <td>VIP</td>\n",
       "      <td>Pendente</td>\n",
       "    </tr>\n",
       "    <tr>\n",
       "      <th>68</th>\n",
       "      <td>Thiago 50</td>\n",
       "      <td>Premium</td>\n",
       "      <td>Pendente</td>\n",
       "    </tr>\n",
       "    <tr>\n",
       "      <th>69</th>\n",
       "      <td>Ricardo 59</td>\n",
       "      <td>Premium</td>\n",
       "      <td>Pendente</td>\n",
       "    </tr>\n",
       "    <tr>\n",
       "      <th>70</th>\n",
       "      <td>Larissa 89</td>\n",
       "      <td>Premium</td>\n",
       "      <td>Atrasado</td>\n",
       "    </tr>\n",
       "    <tr>\n",
       "      <th>71</th>\n",
       "      <td>Ricardo 5</td>\n",
       "      <td>Básico</td>\n",
       "      <td>Atrasado</td>\n",
       "    </tr>\n",
       "  </tbody>\n",
       "</table>\n",
       "<p>72 rows × 3 columns</p>\n",
       "</div>"
      ],
      "text/plain": [
       "    nome_aluno    plano status_pagamento\n",
       "0    Mariana 4   Básico         Pendente\n",
       "1     Lucas 12      VIP         Atrasado\n",
       "2   Juliana 58   Básico         Pendente\n",
       "3   Juliana 98   Básico         Atrasado\n",
       "4     Lucas 94  Premium         Atrasado\n",
       "..         ...      ...              ...\n",
       "67      Ana 42      VIP         Pendente\n",
       "68   Thiago 50  Premium         Pendente\n",
       "69  Ricardo 59  Premium         Pendente\n",
       "70  Larissa 89  Premium         Atrasado\n",
       "71   Ricardo 5   Básico         Atrasado\n",
       "\n",
       "[72 rows x 3 columns]"
      ]
     },
     "execution_count": 8,
     "metadata": {},
     "output_type": "execute_result"
    }
   ],
   "source": [
    "pd.read_sql_query('''\n",
    "SELECT nome_aluno, plano, status_pagamento\n",
    "FROM alunos\n",
    "WHERE status_pagamento IN ('Atrasado', 'Pendente')\n",
    "''', conn)"
   ]
  },
  {
   "cell_type": "markdown",
   "metadata": {},
   "source": [
    "### 5. Distribuição das classes de avaliação"
   ]
  },
  {
   "cell_type": "code",
   "execution_count": 9,
   "metadata": {},
   "outputs": [
    {
     "data": {
      "text/html": [
       "<div>\n",
       "<style scoped>\n",
       "    .dataframe tbody tr th:only-of-type {\n",
       "        vertical-align: middle;\n",
       "    }\n",
       "\n",
       "    .dataframe tbody tr th {\n",
       "        vertical-align: top;\n",
       "    }\n",
       "\n",
       "    .dataframe thead th {\n",
       "        text-align: right;\n",
       "    }\n",
       "</style>\n",
       "<table border=\"1\" class=\"dataframe\">\n",
       "  <thead>\n",
       "    <tr style=\"text-align: right;\">\n",
       "      <th></th>\n",
       "      <th>avaliacao</th>\n",
       "      <th>quantidade</th>\n",
       "    </tr>\n",
       "  </thead>\n",
       "  <tbody>\n",
       "    <tr>\n",
       "      <th>0</th>\n",
       "      <td>Regular</td>\n",
       "      <td>31</td>\n",
       "    </tr>\n",
       "    <tr>\n",
       "      <th>1</th>\n",
       "      <td>Insatisfeito</td>\n",
       "      <td>24</td>\n",
       "    </tr>\n",
       "    <tr>\n",
       "      <th>2</th>\n",
       "      <td>Bom</td>\n",
       "      <td>23</td>\n",
       "    </tr>\n",
       "    <tr>\n",
       "      <th>3</th>\n",
       "      <td>Excelente</td>\n",
       "      <td>22</td>\n",
       "    </tr>\n",
       "  </tbody>\n",
       "</table>\n",
       "</div>"
      ],
      "text/plain": [
       "      avaliacao  quantidade\n",
       "0       Regular          31\n",
       "1  Insatisfeito          24\n",
       "2           Bom          23\n",
       "3     Excelente          22"
      ]
     },
     "execution_count": 9,
     "metadata": {},
     "output_type": "execute_result"
    }
   ],
   "source": [
    "pd.read_sql_query('''\n",
    "SELECT avaliacao, COUNT(*) AS quantidade\n",
    "FROM alunos\n",
    "GROUP BY avaliacao\n",
    "ORDER BY quantidade DESC\n",
    "''', conn)"
   ]
  },
  {
   "cell_type": "markdown",
   "metadata": {},
   "source": [
    "### 6. Alunos com mais de 80 aulas realizadas"
   ]
  },
  {
   "cell_type": "code",
   "execution_count": 10,
   "metadata": {},
   "outputs": [
    {
     "data": {
      "text/html": [
       "<div>\n",
       "<style scoped>\n",
       "    .dataframe tbody tr th:only-of-type {\n",
       "        vertical-align: middle;\n",
       "    }\n",
       "\n",
       "    .dataframe tbody tr th {\n",
       "        vertical-align: top;\n",
       "    }\n",
       "\n",
       "    .dataframe thead th {\n",
       "        text-align: right;\n",
       "    }\n",
       "</style>\n",
       "<table border=\"1\" class=\"dataframe\">\n",
       "  <thead>\n",
       "    <tr style=\"text-align: right;\">\n",
       "      <th></th>\n",
       "      <th>nome_aluno</th>\n",
       "      <th>aulas_realizadas</th>\n",
       "    </tr>\n",
       "  </thead>\n",
       "  <tbody>\n",
       "    <tr>\n",
       "      <th>0</th>\n",
       "      <td>Larissa 99</td>\n",
       "      <td>99</td>\n",
       "    </tr>\n",
       "    <tr>\n",
       "      <th>1</th>\n",
       "      <td>Thiago 32</td>\n",
       "      <td>99</td>\n",
       "    </tr>\n",
       "    <tr>\n",
       "      <th>2</th>\n",
       "      <td>Ana 71</td>\n",
       "      <td>99</td>\n",
       "    </tr>\n",
       "    <tr>\n",
       "      <th>3</th>\n",
       "      <td>Renato 77</td>\n",
       "      <td>99</td>\n",
       "    </tr>\n",
       "    <tr>\n",
       "      <th>4</th>\n",
       "      <td>Renato 59</td>\n",
       "      <td>95</td>\n",
       "    </tr>\n",
       "    <tr>\n",
       "      <th>5</th>\n",
       "      <td>Renato 27</td>\n",
       "      <td>95</td>\n",
       "    </tr>\n",
       "    <tr>\n",
       "      <th>6</th>\n",
       "      <td>Thiago 42</td>\n",
       "      <td>95</td>\n",
       "    </tr>\n",
       "    <tr>\n",
       "      <th>7</th>\n",
       "      <td>Lucas 12</td>\n",
       "      <td>93</td>\n",
       "    </tr>\n",
       "    <tr>\n",
       "      <th>8</th>\n",
       "      <td>Juliana 93</td>\n",
       "      <td>92</td>\n",
       "    </tr>\n",
       "    <tr>\n",
       "      <th>9</th>\n",
       "      <td>Larissa 82</td>\n",
       "      <td>91</td>\n",
       "    </tr>\n",
       "    <tr>\n",
       "      <th>10</th>\n",
       "      <td>Lucas 93</td>\n",
       "      <td>91</td>\n",
       "    </tr>\n",
       "    <tr>\n",
       "      <th>11</th>\n",
       "      <td>Lucas 94</td>\n",
       "      <td>90</td>\n",
       "    </tr>\n",
       "    <tr>\n",
       "      <th>12</th>\n",
       "      <td>Renato 91</td>\n",
       "      <td>90</td>\n",
       "    </tr>\n",
       "    <tr>\n",
       "      <th>13</th>\n",
       "      <td>Ricardo 60</td>\n",
       "      <td>90</td>\n",
       "    </tr>\n",
       "    <tr>\n",
       "      <th>14</th>\n",
       "      <td>Mariana 73</td>\n",
       "      <td>87</td>\n",
       "    </tr>\n",
       "    <tr>\n",
       "      <th>15</th>\n",
       "      <td>Carlos 20</td>\n",
       "      <td>87</td>\n",
       "    </tr>\n",
       "    <tr>\n",
       "      <th>16</th>\n",
       "      <td>Carlos 81</td>\n",
       "      <td>86</td>\n",
       "    </tr>\n",
       "    <tr>\n",
       "      <th>17</th>\n",
       "      <td>Mariana 4</td>\n",
       "      <td>85</td>\n",
       "    </tr>\n",
       "    <tr>\n",
       "      <th>18</th>\n",
       "      <td>Mariana 66</td>\n",
       "      <td>83</td>\n",
       "    </tr>\n",
       "    <tr>\n",
       "      <th>19</th>\n",
       "      <td>Thiago 8</td>\n",
       "      <td>83</td>\n",
       "    </tr>\n",
       "    <tr>\n",
       "      <th>20</th>\n",
       "      <td>Mariana 76</td>\n",
       "      <td>82</td>\n",
       "    </tr>\n",
       "    <tr>\n",
       "      <th>21</th>\n",
       "      <td>Ricardo 49</td>\n",
       "      <td>82</td>\n",
       "    </tr>\n",
       "    <tr>\n",
       "      <th>22</th>\n",
       "      <td>Carlos 82</td>\n",
       "      <td>81</td>\n",
       "    </tr>\n",
       "  </tbody>\n",
       "</table>\n",
       "</div>"
      ],
      "text/plain": [
       "    nome_aluno  aulas_realizadas\n",
       "0   Larissa 99                99\n",
       "1    Thiago 32                99\n",
       "2       Ana 71                99\n",
       "3    Renato 77                99\n",
       "4    Renato 59                95\n",
       "5    Renato 27                95\n",
       "6    Thiago 42                95\n",
       "7     Lucas 12                93\n",
       "8   Juliana 93                92\n",
       "9   Larissa 82                91\n",
       "10    Lucas 93                91\n",
       "11    Lucas 94                90\n",
       "12   Renato 91                90\n",
       "13  Ricardo 60                90\n",
       "14  Mariana 73                87\n",
       "15   Carlos 20                87\n",
       "16   Carlos 81                86\n",
       "17   Mariana 4                85\n",
       "18  Mariana 66                83\n",
       "19    Thiago 8                83\n",
       "20  Mariana 76                82\n",
       "21  Ricardo 49                82\n",
       "22   Carlos 82                81"
      ]
     },
     "execution_count": 10,
     "metadata": {},
     "output_type": "execute_result"
    }
   ],
   "source": [
    "pd.read_sql_query('''\n",
    "SELECT nome_aluno, aulas_realizadas\n",
    "FROM alunos\n",
    "WHERE aulas_realizadas > 80\n",
    "ORDER BY aulas_realizadas DESC\n",
    "''', conn)"
   ]
  },
  {
   "cell_type": "markdown",
   "metadata": {},
   "source": [
    "### 7. Gráfico de barras: Quantidade de alunos por plano"
   ]
  },
  {
   "cell_type": "code",
   "execution_count": 11,
   "metadata": {},
   "outputs": [
    {
     "name": "stderr",
     "output_type": "stream",
     "text": [
      "C:\\Users\\gonca\\AppData\\Local\\Temp\\ipykernel_2284\\2830677630.py:8: FutureWarning: \n",
      "\n",
      "Passing `palette` without assigning `hue` is deprecated and will be removed in v0.14.0. Assign the `x` variable to `hue` and set `legend=False` for the same effect.\n",
      "\n",
      "  sns.barplot(data=df_plano, x='plano', y='quantidade', palette='Blues_d')\n"
     ]
    },
    {
     "data": {
      "image/png": "[encoded data removed]",
      "text/plain": [
       "<Figure size 800x500 with 1 Axes>"
      ]
     },
     "metadata": {},
     "output_type": "display_data"
    }
   ],
   "source": [
    "df_plano = pd.read_sql_query('''\n",
    "SELECT plano, COUNT(*) AS quantidade\n",
    "FROM alunos\n",
    "GROUP BY plano\n",
    "''', conn)\n",
    "\n",
    "plt.figure(figsize=(8, 5))\n",
    "sns.barplot(data=df_plano, x='plano', y='quantidade', palette='Blues_d')\n",
    "plt.title('Quantidade de Alunos por Plano')\n",
    "plt.xlabel('Plano')\n",
    "plt.ylabel('Quantidade')\n",
    "plt.tight_layout()\n",
    "plt.show()\n"
   ]
  },
  {
   "cell_type": "markdown",
   "metadata": {},
   "source": [
    "### 8. Gráfico de pizza: Distribuição dos objetivos dos alunos"
   ]
  },
  {
   "cell_type": "code",
   "execution_count": 12,
   "metadata": {},
   "outputs": [
    {
     "data": {
      "image/png": "[encoded data removed]",
      "text/plain": [
       "<Figure size 700x700 with 1 Axes>"
      ]
     },
     "metadata": {},
     "output_type": "display_data"
    }
   ],
   "source": [
    "df_objetivo = pd.read_sql_query('''\n",
    "SELECT objetivo, COUNT(*) AS total\n",
    "FROM alunos\n",
    "GROUP BY objetivo\n",
    "''', conn)\n",
    "\n",
    "plt.figure(figsize=(7, 7))\n",
    "plt.pie(df_objetivo['total'], labels=df_objetivo['objetivo'], autopct='%1.1f%%', startangle=140)\n",
    "plt.title('Distribuição dos Objetivos dos Alunos')\n",
    "plt.axis('equal')\n",
    "plt.show()"
   ]
  },
  {
   "cell_type": "markdown",
   "metadata": {},
   "source": [
    "### 9. Gráfico de barras: Classes de avaliação"
   ]
  },
  {
   "cell_type": "code",
   "execution_count": 13,
   "metadata": {},
   "outputs": [
    {
     "name": "stderr",
     "output_type": "stream",
     "text": [
      "C:\\Users\\gonca\\AppData\\Local\\Temp\\ipykernel_2284\\3734964057.py:8: FutureWarning: \n",
      "\n",
      "Passing `palette` without assigning `hue` is deprecated and will be removed in v0.14.0. Assign the `x` variable to `hue` and set `legend=False` for the same effect.\n",
      "\n",
      "  sns.barplot(data=df_avaliacao, x='avaliacao', y='total', palette='Set2')\n"
     ]
    },
    {
     "data": {
      "image/png": "[encoded data removed]",
      "text/plain": [
       "<Figure size 700x500 with 1 Axes>"
      ]
     },
     "metadata": {},
     "output_type": "display_data"
    }
   ],
   "source": [
    "df_avaliacao = pd.read_sql_query('''\n",
    "SELECT avaliacao, COUNT(*) AS total\n",
    "FROM alunos\n",
    "GROUP BY avaliacao\n",
    "''', conn)\n",
    "\n",
    "plt.figure(figsize=(7, 5))\n",
    "sns.barplot(data=df_avaliacao, x='avaliacao', y='total', palette='Set2')\n",
    "plt.title('Distribuição das Classes de Avaliação')\n",
    "plt.xlabel('Avaliação')\n",
    "plt.ylabel('Quantidade')\n",
    "plt.tight_layout()\n",
    "plt.show()"
   ]
  },
  {
   "cell_type": "markdown",
   "metadata": {},
   "source": [
    "### 10. Histograma: Distribuição da quantidade de aulas realizadas"
   ]
  },
  {
   "cell_type": "code",
   "execution_count": 14,
   "metadata": {},
   "outputs": [
    {
     "data": {
      "image/png": "[encoded data removed]",
      "text/plain": [
       "<Figure size 700x500 with 1 Axes>"
      ]
     },
     "metadata": {},
     "output_type": "display_data"
    }
   ],
   "source": [
    "df_aulas = pd.read_sql_query('SELECT aulas_realizadas FROM alunos', conn)\n",
    "\n",
    "plt.figure(figsize=(7, 5))\n",
    "sns.histplot(df_aulas['aulas_realizadas'], bins=10, kde=True, color='skyblue')\n",
    "plt.title('Distribuição de Aulas Realizadas')\n",
    "plt.xlabel('Aulas Realizadas')\n",
    "plt.ylabel('Número de Alunos')\n",
    "plt.tight_layout()\n",
    "plt.show()\n"
   ]
  },
  {
   "cell_type": "markdown",
   "metadata": {},
   "source": [
    "### 11. Status de Pagamento dos Alunos"
   ]
  },
  {
   "cell_type": "code",
   "execution_count": 17,
   "metadata": {},
   "outputs": [
    {
     "name": "stderr",
     "output_type": "stream",
     "text": [
      "C:\\Users\\gonca\\AppData\\Local\\Temp\\ipykernel_2284\\4035930523.py:9: FutureWarning: \n",
      "\n",
      "Passing `palette` without assigning `hue` is deprecated and will be removed in v0.14.0. Assign the `x` variable to `hue` and set `legend=False` for the same effect.\n",
      "\n",
      "  sns.barplot(data=df_pagamento, x='status_pagamento', y='total', palette='coolwarm')\n"
     ]
    },
    {
     "data": {
      "image/png": "[encoded data removed]",
      "text/plain": [
       "<Figure size 600x400 with 1 Axes>"
      ]
     },
     "metadata": {},
     "output_type": "display_data"
    }
   ],
   "source": [
    "# 4. Gráfico de barras: Status de Pagamento\n",
    "df_pagamento = pd.read_sql_query('''\n",
    "SELECT status_pagamento, COUNT(*) AS total\n",
    "FROM alunos\n",
    "GROUP BY status_pagamento\n",
    "''', conn)\n",
    "\n",
    "plt.figure(figsize=(6, 4))\n",
    "sns.barplot(data=df_pagamento, x='status_pagamento', y='total', palette='coolwarm')\n",
    "plt.title('Status de Pagamento dos Alunos')\n",
    "plt.xlabel('Status')\n",
    "plt.ylabel('Quantidade de Alunos')\n",
    "plt.tight_layout()\n",
    "plt.show()"
   ]
  },
  {
   "cell_type": "markdown",
   "metadata": {},
   "source": [
    "### 12. Distribuição de Aulas Realizadas por Tipo de Plano"
   ]
  },
  {
   "cell_type": "code",
   "execution_count": 18,
   "metadata": {},
   "outputs": [
    {
     "name": "stderr",
     "output_type": "stream",
     "text": [
      "C:\\Users\\gonca\\AppData\\Local\\Temp\\ipykernel_2284\\1398624309.py:9: FutureWarning: \n",
      "\n",
      "Passing `palette` without assigning `hue` is deprecated and will be removed in v0.14.0. Assign the `x` variable to `hue` and set `legend=False` for the same effect.\n",
      "\n",
      "  sns.boxplot(data=df_aulas_plano, x='plano', y='aulas_realizadas', palette='Set3')\n"
     ]
    },
    {
     "data": {
      "image/png": "[encoded data removed]",
      "text/plain": [
       "<Figure size 800x500 with 1 Axes>"
      ]
     },
     "metadata": {},
     "output_type": "display_data"
    }
   ],
   "source": [
    "# Consulta: aulas realizadas por aluno e seu respectivo plano\n",
    "df_aulas_plano = pd.read_sql_query('''\n",
    "SELECT plano, aulas_realizadas\n",
    "FROM alunos\n",
    "''', conn)\n",
    "\n",
    "# Gráfico de boxplot para ver a distribuição por plano\n",
    "plt.figure(figsize=(8, 5))\n",
    "sns.boxplot(data=df_aulas_plano, x='plano', y='aulas_realizadas', palette='Set3')\n",
    "plt.title('Distribuição de Aulas Realizadas por Tipo de Plano')\n",
    "plt.xlabel('Plano')\n",
    "plt.ylabel('Aulas Realizadas')\n",
    "plt.tight_layout()\n",
    "plt.show()"
   ]
  }
 ],
 "metadata": {
  "kernelspec": {
   "display_name": "Python 3",
   "language": "python",
   "name": "python3"
  },
  "language_info": {
   "codemirror_mode": {
    "name": "ipython",
    "version": 3
   },
   "file_extension": ".py",
   "mimetype": "text/x-python",
   "name": "python",
   "nbconvert_exporter": "python",
   "pygments_lexer": "ipython3",
   "version": "3.10.0rc2"
  }
 },
 "nbformat": 4,
 "nbformat_minor": 2
}
